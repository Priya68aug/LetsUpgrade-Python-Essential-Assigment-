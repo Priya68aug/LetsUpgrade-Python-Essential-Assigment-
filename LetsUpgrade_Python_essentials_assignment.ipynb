{
  "nbformat": 4,
  "nbformat_minor": 0,
  "metadata": {
    "colab": {
      "name": "LetsUpgrade_Python_essentials_assignment.ipynb",
      "provenance": [],
      "collapsed_sections": []
    },
    "kernelspec": {
      "name": "python3",
      "display_name": "Python 3"
    },
    "language_info": {
      "name": "python"
    }
  },
  "cells": [
    {
      "cell_type": "markdown",
      "metadata": {
        "id": "3vQcYToEnToD"
      },
      "source": [
        "**Two lists with some brand names in it and arrange them in ascending order**"
      ]
    },
    {
      "cell_type": "markdown",
      "metadata": {
        "id": "Rm2oXWNknkQn"
      },
      "source": [
        "**There should be some names in it that should be common and there should be some that should be overlapping.**\n",
        "\n",
        "**Range with even numbers starting from 20-40 with steps of 2**"
      ]
    },
    {
      "cell_type": "code",
      "metadata": {
        "colab": {
          "base_uri": "https://localhost:8080/"
        },
        "id": "JJ_fSiOMjk8f",
        "outputId": "b2742f9e-3856-469b-c0d7-ce36904a7dc0"
      },
      "source": [
        "list_1 = [\"Perk\",\"Dairy-milk\",\"Fuse\",\"5 Star\",\"Bournville\",\"Dairy Milk Silk\"]\n",
        "print(list_1)"
      ],
      "execution_count": null,
      "outputs": [
        {
          "output_type": "stream",
          "text": [
            "['Perk', 'Dairy-milk', 'Fuse', '5 Star', 'Bournville', 'Dairy Milk Silk']\n"
          ],
          "name": "stdout"
        }
      ]
    },
    {
      "cell_type": "code",
      "metadata": {
        "colab": {
          "base_uri": "https://localhost:8080/"
        },
        "id": "z1X3C4Pko0ie",
        "outputId": "6951fd9a-51db-491e-f355-13cd8d0b4902"
      },
      "source": [
        "list_2 = [\"Kitkat\",\"Dairy-Milk\",\"Amul Chocolate\",\"Parle-Friberg\",\"Bournville\",\"Mars-Snikers\"]\n",
        "print(list_2)"
      ],
      "execution_count": null,
      "outputs": [
        {
          "output_type": "stream",
          "text": [
            "['Kitkat', 'Dairy-Milk', 'Amul Chocolate', 'Parle-Friberg', 'Bournville', 'Mars-Snikers']\n"
          ],
          "name": "stdout"
        }
      ]
    },
    {
      "cell_type": "code",
      "metadata": {
        "colab": {
          "base_uri": "https://localhost:8080/"
        },
        "id": "2vbzLQlxpbbD",
        "outputId": "df2ec77d-5bed-4def-9adb-d05764786417"
      },
      "source": [
        "#Adding values to list_1 \n",
        "list_1 + [\"Campco\",\"Ferrero – Kinder Joy\"]"
      ],
      "execution_count": null,
      "outputs": [
        {
          "output_type": "execute_result",
          "data": {
            "text/plain": [
              "['Perk',\n",
              " 'Dairy-milk',\n",
              " 'Fuse',\n",
              " '5 Star',\n",
              " 'Bournville',\n",
              " 'Dairy Milk Silk',\n",
              " 'Campco',\n",
              " 'Ferrero – Kinder Joy']"
            ]
          },
          "metadata": {
            "tags": []
          },
          "execution_count": 5
        }
      ]
    },
    {
      "cell_type": "code",
      "metadata": {
        "colab": {
          "base_uri": "https://localhost:8080/"
        },
        "id": "1HRPDYmEqCgx",
        "outputId": "7a70e747-3c81-472b-9818-5e871911da9d"
      },
      "source": [
        "len(list_1)"
      ],
      "execution_count": null,
      "outputs": [
        {
          "output_type": "execute_result",
          "data": {
            "text/plain": [
              "6"
            ]
          },
          "metadata": {
            "tags": []
          },
          "execution_count": 6
        }
      ]
    },
    {
      "cell_type": "code",
      "metadata": {
        "colab": {
          "base_uri": "https://localhost:8080/"
        },
        "id": "HGr2LOd_qRtT",
        "outputId": "2f34d193-531d-4ca9-fbfc-b0cb2d5d1819"
      },
      "source": [
        "#Concetenation of List\n",
        "list_1 = list_1 + [\"Campo\",\"Ferrero-Kinder Joy\"]\n",
        "print(list_1)"
      ],
      "execution_count": null,
      "outputs": [
        {
          "output_type": "stream",
          "text": [
            "['Perk', 'Dairy-milk', 'Fuse', '5 Star', 'Bournville', 'Dairy Milk Silk', 'Campo', 'Ferrero-Kinder Joy']\n"
          ],
          "name": "stdout"
        }
      ]
    },
    {
      "cell_type": "code",
      "metadata": {
        "colab": {
          "base_uri": "https://localhost:8080/"
        },
        "id": "tzyzaiPMqq_h",
        "outputId": "cf529821-bac5-4cd5-c5b3-f971648e6733"
      },
      "source": [
        "len(list_1)"
      ],
      "execution_count": null,
      "outputs": [
        {
          "output_type": "execute_result",
          "data": {
            "text/plain": [
              "8"
            ]
          },
          "metadata": {
            "tags": []
          },
          "execution_count": 8
        }
      ]
    },
    {
      "cell_type": "code",
      "metadata": {
        "colab": {
          "base_uri": "https://localhost:8080/"
        },
        "id": "uRJwOwBMqtVl",
        "outputId": "d160d2a2-ee1f-4178-cb07-6f6d3689e6b9"
      },
      "source": [
        "list_2 = list_2 + [\"Hershey – Brookside\",\"Pacari\"]\n",
        "print(list_2)"
      ],
      "execution_count": null,
      "outputs": [
        {
          "output_type": "stream",
          "text": [
            "['Kitkat', 'Dairy-Milk', 'Amul Chocolate', 'Parle-Friberg', 'Bournville', 'Mars-Snikers', 'Hershey – Brookside', 'Pacari']\n"
          ],
          "name": "stdout"
        }
      ]
    },
    {
      "cell_type": "code",
      "metadata": {
        "colab": {
          "base_uri": "https://localhost:8080/"
        },
        "id": "7TbmR4r4q9RS",
        "outputId": "d814a3cf-9536-4793-81eb-ba608441ea3c"
      },
      "source": [
        "len(list_2)"
      ],
      "execution_count": null,
      "outputs": [
        {
          "output_type": "execute_result",
          "data": {
            "text/plain": [
              "8"
            ]
          },
          "metadata": {
            "tags": []
          },
          "execution_count": 10
        }
      ]
    },
    {
      "cell_type": "code",
      "metadata": {
        "colab": {
          "base_uri": "https://localhost:8080/"
        },
        "id": "6ax5Vs2NrAH9",
        "outputId": "b6888eee-6a0e-45e0-e08d-de5bf105f010"
      },
      "source": [
        "#Changing the Value inside the list \n",
        "list_1[2] = \"Amul Chocolate\"\n",
        "print (list_1)"
      ],
      "execution_count": null,
      "outputs": [
        {
          "output_type": "stream",
          "text": [
            "['Perk', 'Dairy-milk', 'Amul Chocolate', '5 Star', 'Bournville', 'Dairy Milk Silk', 'Campo', 'Ferrero-Kinder Joy']\n"
          ],
          "name": "stdout"
        }
      ]
    },
    {
      "cell_type": "code",
      "metadata": {
        "colab": {
          "base_uri": "https://localhost:8080/"
        },
        "id": "teQdH1UJrVO3",
        "outputId": "3eb359dd-a8ac-49bf-99d0-7fcc3b0e3da3"
      },
      "source": [
        "list_2[3] = \"Lotte – Choco Pie\"\n",
        "print(list_2)"
      ],
      "execution_count": null,
      "outputs": [
        {
          "output_type": "stream",
          "text": [
            "['Kitkat', 'Dairy-Milk', 'Amul Chocolate', 'Lotte – Choco Pie', 'Bournville', 'Mars-Snikers', 'Hershey – Brookside', 'Pacari']\n"
          ],
          "name": "stdout"
        }
      ]
    },
    {
      "cell_type": "code",
      "metadata": {
        "colab": {
          "base_uri": "https://localhost:8080/"
        },
        "id": "mzvthjp3rnzz",
        "outputId": "2df81d12-6806-4801-ce49-cea20b4aa9aa"
      },
      "source": [
        "#To check wether the name is present or not \n",
        "\"kitkat\" in list_2 "
      ],
      "execution_count": null,
      "outputs": [
        {
          "output_type": "execute_result",
          "data": {
            "text/plain": [
              "False"
            ]
          },
          "metadata": {
            "tags": []
          },
          "execution_count": 14
        }
      ]
    },
    {
      "cell_type": "code",
      "metadata": {
        "colab": {
          "base_uri": "https://localhost:8080/"
        },
        "id": "_G2kYvAVsGOH",
        "outputId": "cc14a494-ad66-4751-c8cb-1a1e931d2fff"
      },
      "source": [
        "#To Arrange the lists in the ascending order we use the sorted function\n",
        "sorted(list_1)"
      ],
      "execution_count": null,
      "outputs": [
        {
          "output_type": "execute_result",
          "data": {
            "text/plain": [
              "['5 Star',\n",
              " 'Amul Chocolate',\n",
              " 'Bournville',\n",
              " 'Campo',\n",
              " 'Dairy Milk Silk',\n",
              " 'Dairy-milk',\n",
              " 'Ferrero-Kinder Joy',\n",
              " 'Perk']"
            ]
          },
          "metadata": {
            "tags": []
          },
          "execution_count": 15
        }
      ]
    },
    {
      "cell_type": "code",
      "metadata": {
        "colab": {
          "base_uri": "https://localhost:8080/"
        },
        "id": "QYdN_m3Asz8D",
        "outputId": "13558c60-da6e-40ff-8b6e-e88e09e65cc6"
      },
      "source": [
        "sorted(list_2)"
      ],
      "execution_count": null,
      "outputs": [
        {
          "output_type": "execute_result",
          "data": {
            "text/plain": [
              "['Amul Chocolate',\n",
              " 'Bournville',\n",
              " 'Dairy-Milk',\n",
              " 'Hershey – Brookside',\n",
              " 'Kitkat',\n",
              " 'Lotte – Choco Pie',\n",
              " 'Mars-Snikers',\n",
              " 'Pacari']"
            ]
          },
          "metadata": {
            "tags": []
          },
          "execution_count": 16
        }
      ]
    },
    {
      "cell_type": "code",
      "metadata": {
        "colab": {
          "base_uri": "https://localhost:8080/"
        },
        "id": "lXsJR-cQs34_",
        "outputId": "4d999850-20c3-4969-b0c8-62e63a69c314"
      },
      "source": [
        "#And to sort the list into Descending order we just have to do this \n",
        "sorted(list_1, reverse= True)"
      ],
      "execution_count": null,
      "outputs": [
        {
          "output_type": "execute_result",
          "data": {
            "text/plain": [
              "['Perk',\n",
              " 'Ferrero-Kinder Joy',\n",
              " 'Dairy-milk',\n",
              " 'Dairy Milk Silk',\n",
              " 'Campo',\n",
              " 'Bournville',\n",
              " 'Amul Chocolate',\n",
              " '5 Star']"
            ]
          },
          "metadata": {
            "tags": []
          },
          "execution_count": 17
        }
      ]
    },
    {
      "cell_type": "code",
      "metadata": {
        "colab": {
          "base_uri": "https://localhost:8080/"
        },
        "id": "86ksqu_1tLTP",
        "outputId": "1065dde0-d78d-4131-8def-54971d7794a0"
      },
      "source": [
        "sorted(list_2, reverse = True)"
      ],
      "execution_count": null,
      "outputs": [
        {
          "output_type": "execute_result",
          "data": {
            "text/plain": [
              "['Pacari',\n",
              " 'Mars-Snikers',\n",
              " 'Lotte – Choco Pie',\n",
              " 'Kitkat',\n",
              " 'Hershey – Brookside',\n",
              " 'Dairy-Milk',\n",
              " 'Bournville',\n",
              " 'Amul Chocolate']"
            ]
          },
          "metadata": {
            "tags": []
          },
          "execution_count": 18
        }
      ]
    },
    {
      "cell_type": "code",
      "metadata": {
        "id": "RERAj2yCtQje"
      },
      "source": [
        "list_1 = ['Perk','Ferrero-Kinder Joy','Dairy-milk','Dairy Milk Silk','Campo','Bournville','Amul Chocolate','5 Star']\n",
        "list_2 = ['Pacari','Mars-Snikers','Lotte – Choco Pie','Kitkat','Hershey – Brookside','Dairy-Milk','Bournville','Amul Chocolate']\n",
        "common_listed_item = []"
      ],
      "execution_count": null,
      "outputs": []
    },
    {
      "cell_type": "code",
      "metadata": {
        "id": "zcU_kXY7wW9t"
      },
      "source": [
        "for i in list_1: # check the elements in list_1\n",
        "  if i in list_2:# to check the same element is in list_2\n",
        "    common_listed_item.append(i) #if they are present print it out"
      ],
      "execution_count": null,
      "outputs": []
    },
    {
      "cell_type": "code",
      "metadata": {
        "colab": {
          "base_uri": "https://localhost:8080/"
        },
        "id": "PzSwCY8b3QHo",
        "outputId": "f9837ab9-748b-4627-9338-0375c4e8c3a3"
      },
      "source": [
        "print(common_listed_item)"
      ],
      "execution_count": null,
      "outputs": [
        {
          "output_type": "stream",
          "text": [
            "['Bournville', 'Amul Chocolate']\n"
          ],
          "name": "stdout"
        }
      ]
    },
    {
      "cell_type": "code",
      "metadata": {
        "colab": {
          "base_uri": "https://localhost:8080/"
        },
        "id": "GPiysjgFwXLL",
        "outputId": "4c4ee632-1cfd-4e6a-84bb-6d6a4ee65dc3"
      },
      "source": [
        "# #Creating a range from 20-40 with even numbers.\n",
        "ranged = range(20,40,2)"
      ],
      "execution_count": null,
      "outputs": [
        {
          "output_type": "execute_result",
          "data": {
            "text/plain": [
              "range(20, 40, 2)"
            ]
          },
          "metadata": {
            "tags": []
          },
          "execution_count": 22
        }
      ]
    },
    {
      "cell_type": "code",
      "metadata": {
        "colab": {
          "base_uri": "https://localhost:8080/"
        },
        "id": "P1nJn1cawo6_",
        "outputId": "e2a45f40-761a-41ce-a226-e6216a052e5b"
      },
      "source": [
        "print(ranged)\n"
      ],
      "execution_count": null,
      "outputs": [
        {
          "output_type": "stream",
          "text": [
            "range(20, 40, 2)\n"
          ],
          "name": "stdout"
        }
      ]
    },
    {
      "cell_type": "code",
      "metadata": {
        "colab": {
          "base_uri": "https://localhost:8080/"
        },
        "id": "HGlOIqY-w5Xj",
        "outputId": "81ba08dd-fd5d-40d3-c21d-0b252d1515f2"
      },
      "source": [
        "# For the printing the numbers in the range starting from 20-40 with the strp of 2 we need to write a for loop.\n",
        "for i in ranged:\n",
        "  print (i)"
      ],
      "execution_count": null,
      "outputs": [
        {
          "output_type": "stream",
          "text": [
            "20\n",
            "22\n",
            "24\n",
            "26\n",
            "28\n",
            "30\n",
            "32\n",
            "34\n",
            "36\n",
            "38\n"
          ],
          "name": "stdout"
        }
      ]
    },
    {
      "cell_type": "code",
      "metadata": {
        "id": "70KctqPuxj7e"
      },
      "source": [
        ""
      ],
      "execution_count": null,
      "outputs": []
    }
  ]
}